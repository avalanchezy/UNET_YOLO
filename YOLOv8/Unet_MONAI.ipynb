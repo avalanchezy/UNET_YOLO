{
 "cells": [
  {
   "cell_type": "code",
   "execution_count": 4,
   "metadata": {},
   "outputs": [
    {
     "name": "stdout",
     "output_type": "stream",
     "text": [
      "Requirement already satisfied: monai in c:\\users\\zhuyi\\anaconda3\\envs\\yolo\\lib\\site-packages (1.3.0)\n",
      "Requirement already satisfied: numpy>=1.20 in c:\\users\\zhuyi\\anaconda3\\envs\\yolo\\lib\\site-packages (from monai) (1.26.4)\n",
      "Requirement already satisfied: torch>=1.9 in c:\\users\\zhuyi\\anaconda3\\envs\\yolo\\lib\\site-packages (from monai) (2.2.0)\n",
      "Requirement already satisfied: filelock in c:\\users\\zhuyi\\anaconda3\\envs\\yolo\\lib\\site-packages (from torch>=1.9->monai) (3.13.1)\n",
      "Requirement already satisfied: typing-extensions>=4.8.0 in c:\\users\\zhuyi\\anaconda3\\envs\\yolo\\lib\\site-packages (from torch>=1.9->monai) (4.10.0)\n",
      "Requirement already satisfied: sympy in c:\\users\\zhuyi\\anaconda3\\envs\\yolo\\lib\\site-packages (from torch>=1.9->monai) (1.12)\n",
      "Requirement already satisfied: networkx in c:\\users\\zhuyi\\anaconda3\\envs\\yolo\\lib\\site-packages (from torch>=1.9->monai) (3.2.1)\n",
      "Requirement already satisfied: jinja2 in c:\\users\\zhuyi\\anaconda3\\envs\\yolo\\lib\\site-packages (from torch>=1.9->monai) (3.1.3)\n",
      "Requirement already satisfied: fsspec in c:\\users\\zhuyi\\anaconda3\\envs\\yolo\\lib\\site-packages (from torch>=1.9->monai) (2024.2.0)\n",
      "Requirement already satisfied: MarkupSafe>=2.0 in c:\\users\\zhuyi\\anaconda3\\envs\\yolo\\lib\\site-packages (from jinja2->torch>=1.9->monai) (2.1.5)\n",
      "Requirement already satisfied: mpmath>=0.19 in c:\\users\\zhuyi\\anaconda3\\envs\\yolo\\lib\\site-packages (from sympy->torch>=1.9->monai) (1.3.0)\n",
      "Note: you may need to restart the kernel to use updated packages.\n"
     ]
    }
   ],
   "source": [
    "%pip install -U monai\n"
   ]
  },
  {
   "cell_type": "code",
   "execution_count": 9,
   "metadata": {},
   "outputs": [
    {
     "ename": "FileNotFoundError",
     "evalue": "[WinError 3] 系统找不到指定的路径。: './datasets/data/datasets_unet/train/images'",
     "output_type": "error",
     "traceback": [
      "\u001b[1;31m---------------------------------------------------------------------------\u001b[0m",
      "\u001b[1;31mFileNotFoundError\u001b[0m                         Traceback (most recent call last)",
      "Cell \u001b[1;32mIn[9], line 25\u001b[0m\n\u001b[0;32m     22\u001b[0m label_dir_train \u001b[38;5;241m=\u001b[39m os\u001b[38;5;241m.\u001b[39mpath\u001b[38;5;241m.\u001b[39mjoin(base_dir, \u001b[38;5;124m\"\u001b[39m\u001b[38;5;124mtrain/masks\u001b[39m\u001b[38;5;124m\"\u001b[39m)\n\u001b[0;32m     24\u001b[0m \u001b[38;5;66;03m# Get the list of image and label files\u001b[39;00m\n\u001b[1;32m---> 25\u001b[0m images_train \u001b[38;5;241m=\u001b[39m \u001b[38;5;28msorted\u001b[39m([os\u001b[38;5;241m.\u001b[39mpath\u001b[38;5;241m.\u001b[39mjoin(image_dir_train, f) \u001b[38;5;28;01mfor\u001b[39;00m f \u001b[38;5;129;01min\u001b[39;00m \u001b[43mos\u001b[49m\u001b[38;5;241;43m.\u001b[39;49m\u001b[43mlistdir\u001b[49m\u001b[43m(\u001b[49m\u001b[43mimage_dir_train\u001b[49m\u001b[43m)\u001b[49m \u001b[38;5;28;01mif\u001b[39;00m f\u001b[38;5;241m.\u001b[39mendswith(\u001b[38;5;124m'\u001b[39m\u001b[38;5;124m.png\u001b[39m\u001b[38;5;124m'\u001b[39m)])\n\u001b[0;32m     26\u001b[0m labels_train \u001b[38;5;241m=\u001b[39m \u001b[38;5;28msorted\u001b[39m([os\u001b[38;5;241m.\u001b[39mpath\u001b[38;5;241m.\u001b[39mjoin(label_dir_train, f) \u001b[38;5;28;01mfor\u001b[39;00m f \u001b[38;5;129;01min\u001b[39;00m os\u001b[38;5;241m.\u001b[39mlistdir(label_dir_train) \u001b[38;5;28;01mif\u001b[39;00m f\u001b[38;5;241m.\u001b[39mendswith(\u001b[38;5;124m'\u001b[39m\u001b[38;5;124m.png\u001b[39m\u001b[38;5;124m'\u001b[39m)])\n\u001b[0;32m     28\u001b[0m \u001b[38;5;66;03m# Create a list of dictionaries for paired image and label paths\u001b[39;00m\n",
      "\u001b[1;31mFileNotFoundError\u001b[0m: [WinError 3] 系统找不到指定的路径。: './datasets/data/datasets_unet/train/images'"
     ]
    }
   ],
   "source": [
    "import os\n",
    "import monai\n",
    "from monai.transforms import (\n",
    "    Compose,\n",
    "    LoadImaged,\n",
    "    EnsureChannelFirstd,\n",
    "    ScaleIntensityd,\n",
    "    ToTensord,\n",
    ")\n",
    "from monai.data import CacheDataset, DataLoader\n",
    "from monai.networks.nets import UNet\n",
    "from monai.networks.layers import Norm\n",
    "from monai.losses import DiceLoss\n",
    "from monai.metrics import DiceMetric\n",
    "from monai.optimizers import Novograd\n",
    "from monai.inferers import sliding_window_inference\n",
    "import torch\n",
    "\n",
    "# Set up the directory paths for images and labels\n",
    "base_dir = \"./datasets/data/datasets_unet/\"\n",
    "image_dir_train = os.path.join(base_dir, \"train/images\")\n",
    "label_dir_train = os.path.join(base_dir, \"train/masks\")\n",
    "\n",
    "# Get the list of image and label files\n",
    "images_train = sorted([os.path.join(image_dir_train, f) for f in os.listdir(image_dir_train) if f.endswith('.png')])\n",
    "labels_train = sorted([os.path.join(label_dir_train, f) for f in os.listdir(label_dir_train) if f.endswith('.png')])\n",
    "\n",
    "# Create a list of dictionaries for paired image and label paths\n",
    "data_dicts_train = [{'image': image_name, 'label': label_name} for image_name, label_name in zip(images_train, labels_train)]\n",
    "\n",
    "# Define the transformations to preprocess the images\n",
    "train_transforms = Compose([\n",
    "    LoadImaged(keys=['image', 'label']),\n",
    "    EnsureChannelFirstd(keys=['image', 'label']),\n",
    "    ScaleIntensityd(keys=['image', 'label']),\n",
    "    ToTensord(keys=['image', 'label']),\n",
    "])\n",
    "\n",
    "# Create a MONAI dataset and a data loader for training\n",
    "train_ds = CacheDataset(data=data_dicts_train, transform=train_transforms, cache_rate=1.0)\n",
    "train_loader = DataLoader(train_ds, batch_size=2, shuffle=True)\n",
    "\n",
    "# Set up the U-Net model\n",
    "model = UNet(\n",
    "    dimensions=2,\n",
    "    in_channels=1,\n",
    "    out_channels=1, # If your dataset has binary segmentation, you need only 1 output channel\n",
    "    channels=(16, 32, 64, 128, 256),\n",
    "    strides=(2, 2, 2, 2),\n",
    "    num_res_units=2,\n",
    "    norm=Norm.BATCH,\n",
    ")\n",
    "\n",
    "# Set up the loss function and optimizer\n",
    "loss_function = DiceLoss(to_onehot_y=True, sigmoid=True)\n",
    "optimizer = Novograd(model.parameters(), lr=0.001)\n",
    "\n",
    "# Start the training loop (simplified version)\n",
    "num_epochs = 5\n",
    "for epoch in range(num_epochs):\n",
    "    model.train()\n",
    "    epoch_loss = 0\n",
    "    for batch_data in train_loader:\n",
    "        inputs, labels = batch_data['image'].cuda(), batch_data['label'].cuda()\n",
    "        optimizer.zero_grad()\n",
    "        outputs = model(inputs)\n",
    "        loss = loss_function(outputs, labels)\n",
    "        loss.backward()\n",
    "        optimizer.step()\n",
    "        epoch_loss += loss.item()\n",
    "    print(f\"epoch {epoch + 1}/{num_epochs}, average loss: {epoch_loss / len(train_loader)}\")\n",
    "\n",
    "# Note: For actual training, you also need to include validation, checkpoint saving,\n",
    "# and use metrics to evaluate the model's performance.\n"
   ]
  }
 ],
 "metadata": {
  "kernelspec": {
   "display_name": "yolo",
   "language": "python",
   "name": "python3"
  },
  "language_info": {
   "codemirror_mode": {
    "name": "ipython",
    "version": 3
   },
   "file_extension": ".py",
   "mimetype": "text/x-python",
   "name": "python",
   "nbconvert_exporter": "python",
   "pygments_lexer": "ipython3",
   "version": "3.11.8"
  }
 },
 "nbformat": 4,
 "nbformat_minor": 2
}
